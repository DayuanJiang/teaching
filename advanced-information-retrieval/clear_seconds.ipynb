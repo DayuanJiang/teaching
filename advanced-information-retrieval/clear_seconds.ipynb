{
 "cells": [
  {
   "cell_type": "code",
   "execution_count": 8,
   "metadata": {},
   "outputs": [],
   "source": [
    "# load all md files in the directory\n",
    "import glob\n",
    "import os\n",
    "\n",
    "\n",
    "md_paths = glob.glob('*.md')\n",
    "\n",
    "\n",
    "md_files = {\n",
    "    os.path.basename(md_path): open(md_path).read()\n",
    "    for md_path in md_paths\n",
    "}"
   ]
  },
  {
   "cell_type": "code",
   "execution_count": 12,
   "metadata": {},
   "outputs": [],
   "source": [
    "md_file = md_files['Lecture 9 - Closed Captions.md']"
   ]
  },
  {
   "cell_type": "code",
   "execution_count": 21,
   "metadata": {},
   "outputs": [],
   "source": [
    "\n",
    "import re\n",
    "def delete_time_line(md_file):\n",
    "    \"\"\"Delete the time line of the markdown file.\n",
    "        The time line has format like *xx.xx seconds*:\n",
    "        *38.36 seconds*\n",
    "        *65.27 seconds*\n",
    "        *88.26 seconds*\n",
    "    \"\"\"\n",
    "    return re.sub(r'\\n\\*\\d+\\.\\d+ seconds\\*\\n', '', md_file)\n",
    "\n",
    "for md_file_name, md_file in md_files.items():\n",
    "    md_files[md_file_name] = delete_time_line(md_file)\n",
    "\n",
    "for md_file_name, md_file in md_files.items():\n",
    "    with open(md_file_name, 'w') as f:\n",
    "        f.write(md_file)"
   ]
  },
  {
   "cell_type": "code",
   "execution_count": null,
   "metadata": {},
   "outputs": [],
   "source": []
  }
 ],
 "metadata": {
  "kernelspec": {
   "display_name": "base",
   "language": "python",
   "name": "python3"
  },
  "language_info": {
   "codemirror_mode": {
    "name": "ipython",
    "version": 3
   },
   "file_extension": ".py",
   "mimetype": "text/x-python",
   "name": "python",
   "nbconvert_exporter": "python",
   "pygments_lexer": "ipython3",
   "version": "3.9.12"
  },
  "orig_nbformat": 4
 },
 "nbformat": 4,
 "nbformat_minor": 2
}
